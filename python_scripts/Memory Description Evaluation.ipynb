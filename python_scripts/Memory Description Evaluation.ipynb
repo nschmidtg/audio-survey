{
 "cells": [
  {
   "cell_type": "code",
   "execution_count": 80,
   "metadata": {},
   "outputs": [],
   "source": [
    "import pickle\n",
    "import numpy as np\n",
    "import pandas as pd\n",
    "import numpy as np\n",
    "import pandas as pd\n",
    "import json \n",
    "import matplotlib.pyplot as plt\n",
    "import seaborn as sns\n",
    "sns.set_style(\"white\")\n",
    "import math\n",
    "from scipy import stats\n",
    "from scipy.stats import t\n",
    "import pickle\n",
    "import statsmodels.stats.api as sms"
   ]
  },
  {
   "cell_type": "code",
   "execution_count": 81,
   "metadata": {},
   "outputs": [],
   "source": [
    "NB_SONGS = 10"
   ]
  },
  {
   "cell_type": "code",
   "execution_count": 82,
   "metadata": {},
   "outputs": [],
   "source": [
    "def t_test(ratings_a, ratings_p, threshold):\n",
    "    \n",
    "    t, p = stats.ttest_ind(ratings_a,ratings_p,equal_var=False)\n",
    "    \n",
    "    if p<threshold:\n",
    "        print('We reject the null hypothesis')\n",
    "        print(\"t = \" + str(t))\n",
    "        print(\"p = \" + str(p))\n",
    "    else:\n",
    "        print('We accept the null hypothesis')\n",
    "        print(\"t = \" + str(t))\n",
    "        print(\"p = \" + str(p))\n",
    "        \n",
    "    print('First confidence interval :',sms.DescrStatsW(ratings_a).tconfint_mean())\n",
    "    print('Second confidence interval :',sms.DescrStatsW(ratings_p).tconfint_mean())"
   ]
  },
  {
   "cell_type": "code",
   "execution_count": 83,
   "metadata": {},
   "outputs": [],
   "source": [
    "with open ('memory_descriptions_active', 'rb') as fp:\n",
    "    memory_descriptions_active = pickle.load(fp)\n",
    "\n",
    "with open ('memory_descriptions_passive', 'rb') as fp:\n",
    "    memory_descriptions_passive = pickle.load(fp)"
   ]
  },
  {
   "cell_type": "raw",
   "metadata": {},
   "source": [
    "Each memory is segmented into informational bits or details. A detail is defined as a unique occurrence, observation, or thought, typically expressed as a grammatical clause (i.e., a subject and predicate: “I dropped my sandwich”). Additional information in the clause is scored separately. For instance, “I dropped my sandwich in Portland last Wednesday” contains three details: an event (dropping the sandwich), a location (Portland), and a time (last Wednesday).\n",
    "\n",
    "There were two broad groups of details: internal and external. \n",
    "\n",
    "Internal details are those that pertained directly to the main event described by the participant, are specific to time and place, and are considered to reflect episodic reexperiencing. In cases where the main event is unclear (e.g., more than one event was described, or the event was vague), the main event is defined by selecting one that occurred within a relatively brief time frame (i.e., half a day or less). \n",
    "\n",
    "When more than one event fit this criterion, the event that garnered the most details was considered the main event. Internal details are separated into five mutually exclusive catego- ries: (a) event (i.e., happenings or the unfolding of the story), (b) place, (c) time, (d) perceptual, and (e) emotion/thought. \n",
    "\n",
    "\n",
    "The main category of external details is semantic (factual information or extended events that did not require recollection of a specific time and place). Repetitions and other details are also classified as external. Finally, details pertaining to specific autobiographical events other than the main defined internal event are classified as external event details.\n",
    "\n",
    "\n",
    "\n",
    "INTERNAL DETAILS : \n",
    "    (1) events (e.g., happenings, actions taken)\n",
    "    (2) places (e.g., room, building, city)\n",
    "    (3) times (e.g., year, month, semester), \n",
    "    (4) perceptions (e.g., Auditory, olfactory, tactile, taste, visual and visual details, body position, duration)\n",
    "    (5) emotions/ thoughts (e.g., happiness, sadness)\n",
    "        \n",
    "EXTERNAL DETAILS :\n",
    "    (1) semantic statements (e.g., General knowledge or facts, ongoing events, extended states of being)\n",
    "    (2) repetitions (repeating previously stated information)\n",
    "    (3) external events (e.g., information about an event not related to the present memory)\n",
    "    (4) other details not related to the memory (e.g., meta-cognitive statements)\n",
    "    \n",
    "    \n",
    "For each memory description : \n",
    "    1) Give the number of perceptual details. \n",
    "    2) Give the number of internal details (=> number of perceptual details).\n",
    "    3) Give the number of external details. "
   ]
  },
  {
   "cell_type": "code",
   "execution_count": 84,
   "metadata": {},
   "outputs": [],
   "source": [
    "# We go over each cell and store how many internal/external they contain\n",
    "\n",
    "def replace_memory(memory_df):\n",
    "    \n",
    "    res = []\n",
    "    \n",
    "    # Iterate over all users who answered \n",
    "    for i in memory_df.index:\n",
    "        \n",
    "        if memory_df.loc[i,\"answered\"]==1:\n",
    "            \n",
    "            print('Participant number :',i)\n",
    "            \n",
    "            perceptuals = []\n",
    "            internals = []\n",
    "            externals = []\n",
    "            \n",
    "            for j in range(NB_SONGS):\n",
    "                \n",
    "                print('Song n°',j)\n",
    "                print(memory_df.loc[i,\"memory_description_\"+str(j)])\n",
    "                \n",
    "                nb_perceptual = 1\n",
    "                nb_internal = 0\n",
    "                \n",
    "                # Perceptual details are included in internal details, so nb_perceptual <= nb_internal\n",
    "                while nb_perceptual>nb_internal:\n",
    "                    \n",
    "                    print('\\nNumber of perceptual details must be smaller or equal to number of internal details')\n",
    "                    \n",
    "                    nb_perceptual = input('Enter nb of perceptual details \\n')\n",
    "                    nb_internal = input('Enter nb of internal details \\n')\n",
    "                    \n",
    "                    \n",
    "                nb_external = input('Enter nb of external details \\n')\n",
    "                \n",
    "                perceptuals.append(nb_perceptual)\n",
    "                internals.append(nb_internal)\n",
    "                externals.append(nb_external)\n",
    "\n",
    "                print('--------------------')\n",
    "                \n",
    "            res.append([perceptuals,internals,externals])\n",
    "            \n",
    "            print('########################')\n",
    "            \n",
    "    return res"
   ]
  },
  {
   "cell_type": "raw",
   "metadata": {},
   "source": [
    "active_memories_list = replace_memory(memory_descriptions_active)\n",
    "passive_memories_list = replace_memory(memory_descriptions_passive)"
   ]
  },
  {
   "cell_type": "code",
   "execution_count": 86,
   "metadata": {},
   "outputs": [],
   "source": [
    "with open ('active_memories_list', 'rb') as fp:\n",
    "    active_memories_list_Morgan = pickle.load(fp)\n",
    "    \n",
    "    \n",
    "with open ('active_memories_list_Marina', 'rb') as fp:\n",
    "    active_memories_list_Marina = pickle.load(fp)\n",
    "    \n",
    "    \n",
    "with open ('active_memories_list_r', 'rb') as fp:\n",
    "    active_memories_list_Ruben = pickle.load(fp)\n",
    "    "
   ]
  },
  {
   "cell_type": "raw",
   "metadata": {},
   "source": [
    "for i in range(len(active_memories_list_Marina)):\n",
    "    for j in range(len(active_memories_list_Marina[i])):\n",
    "        for k in range(len(active_memories_list_Marina[i][j])):\n",
    "            if active_memories_list_Marina[i][j][k]=='':\n",
    "                active_memories_list_Marina[i][j][k] = 0"
   ]
  },
  {
   "cell_type": "raw",
   "metadata": {},
   "source": [
    "for i in range(len(active_memories_list_Ruben)):\n",
    "    for j in range(len(active_memories_list_Ruben[i])):\n",
    "        for k in range(len(active_memories_list_Ruben[i][j])):\n",
    "            if active_memories_list_Ruben[i][j][k]=='':\n",
    "                active_memories_list_Ruben[i][j][k] = 0"
   ]
  },
  {
   "cell_type": "code",
   "execution_count": 87,
   "metadata": {},
   "outputs": [],
   "source": [
    "def calculate_ratio(memories_list):\n",
    "    \n",
    "    ratio_perceptual = []\n",
    "    ratio_internal = []\n",
    "    \n",
    "    # iterate through users\n",
    "    for i in range(len(memories_list)):\n",
    "        \n",
    "        nb_perceptual = 0\n",
    "        nb_internal = 0\n",
    "        nb_external = 0\n",
    "        \n",
    "        # Iterate through songs\n",
    "        for j in range(NB_SONGS):\n",
    "            \n",
    "            nb_perceptual += int(memories_list[i][0][j])\n",
    "            nb_internal += int(memories_list[i][1][j])\n",
    "            nb_external += int(memories_list[i][2][j])\n",
    "        \n",
    "        # Calculate ratios \n",
    "        ratio_internal.append(nb_internal/(nb_internal+nb_external))\n",
    "        ratio_perceptual.append(nb_perceptual/(nb_internal+nb_external))\n",
    "        \n",
    "    # returns ratio of perceptual and internal details\n",
    "    return ratio_perceptual, ratio_internal\n",
    "\n",
    "\n",
    "#def calculate_score(ratio_group):\n",
    "#    res = []\n",
    "#    for i in range(len(ratio_group)):\n",
    "#        res.append(ratio_group[i][0]/ratio_group[i][1])\n",
    "#    return res"
   ]
  },
  {
   "cell_type": "code",
   "execution_count": 88,
   "metadata": {},
   "outputs": [],
   "source": [
    "scores_active_perceptual_Morgan, scores_active_internal_Morgan = calculate_ratio(active_memories_list_Morgan)\n",
    "scores_active_perceptual_Marina, scores_active_internal_Marina = calculate_ratio(active_memories_list_Marina)\n",
    "scores_active_perceptual_Ruben, scores_active_internal_Ruben = calculate_ratio(active_memories_list_Ruben)"
   ]
  },
  {
   "cell_type": "code",
   "execution_count": 89,
   "metadata": {},
   "outputs": [
    {
     "name": "stdout",
     "output_type": "stream",
     "text": [
      "Average ratio of internal details in the active group : 63.34575657536002 %\n",
      "Average ratio of internal details in the active group : 78.26336094419986 %\n",
      "Average ratio of internal details in the active group : 92.86988373416793 %\n"
     ]
    }
   ],
   "source": [
    "print('Average ratio of internal details in the active group :',np.mean(scores_active_internal_Morgan)*100,'%')\n",
    "print('Average ratio of internal details in the active group :',np.mean(scores_active_internal_Marina)*100,'%')\n",
    "print('Average ratio of internal details in the active group :',np.mean(scores_active_internal_Ruben)*100,'%')"
   ]
  },
  {
   "cell_type": "code",
   "execution_count": 90,
   "metadata": {},
   "outputs": [
    {
     "name": "stdout",
     "output_type": "stream",
     "text": [
      "Average ratio of perceptual details in the active group : 18.418433460500516 %\n",
      "Average ratio of perceptual details in the active group : 7.651846297116446 %\n",
      "Average ratio of perceptual details in the active group : 19.338557489389128 %\n"
     ]
    }
   ],
   "source": [
    "print('Average ratio of perceptual details in the active group :',np.mean(scores_active_perceptual_Morgan)*100,'%')\n",
    "print('Average ratio of perceptual details in the active group :',np.mean(scores_active_perceptual_Marina)*100,'%')\n",
    "print('Average ratio of perceptual details in the active group :',np.mean(scores_active_perceptual_Ruben)*100,'%')"
   ]
  },
  {
   "cell_type": "code",
   "execution_count": 92,
   "metadata": {},
   "outputs": [],
   "source": [
    "with open ('passive_memories_list', 'rb') as fp:\n",
    "    passive_memories_list_Morgan = pickle.load(fp)\n",
    "    \n",
    "    \n",
    "with open ('passive_memories_list_Marina', 'rb') as fp:\n",
    "    passive_memories_list_Marina = pickle.load(fp)\n",
    "    \n",
    "    \n",
    "with open ('passive_memories_list_r', 'rb') as fp:\n",
    "    passive_memories_list_Ruben = pickle.load(fp)\n",
    "    "
   ]
  },
  {
   "cell_type": "raw",
   "metadata": {},
   "source": [
    "for i in range(len(passive_memories_list_Marina)):\n",
    "    for j in range(len(passive_memories_list_Marina[i])):\n",
    "        for k in range(len(passive_memories_list_Marina[i][j])):\n",
    "            if passive_memories_list_Marina[i][j][k]=='':\n",
    "                passive_memories_list_Marina[i][j][k] = 0"
   ]
  },
  {
   "cell_type": "raw",
   "metadata": {},
   "source": [
    "with open('passive_memories_list_R', 'wb') as fp:\n",
    "    pickle.dump(passive_memories_list_Ruben, fp)\n",
    "    \n",
    "with open('active_memories_list_R', 'wb') as fp:\n",
    "    pickle.dump(active_memories_list_Ruben, fp)\n",
    "    \n",
    "    \n",
    "with open('passive_memories_list_Marina', 'wb') as fp:\n",
    "    pickle.dump(passive_memories_list_Marina, fp)\n",
    "    \n",
    "with open('active_memories_list_Marina', 'wb') as fp:\n",
    "    pickle.dump(active_memories_list_Marina, fp)\n",
    "    \n",
    "    \n"
   ]
  },
  {
   "cell_type": "raw",
   "metadata": {},
   "source": [
    "for i in range(len(passive_memories_list_Ruben)):\n",
    "    for j in range(len(passive_memories_list_Ruben[i])):\n",
    "        for k in range(len(passive_memories_list_Ruben[i][j])):\n",
    "            if passive_memories_list_Ruben[i][j][k]=='':\n",
    "                passive_memories_list_Ruben[i][j][k] = 0"
   ]
  },
  {
   "cell_type": "code",
   "execution_count": 94,
   "metadata": {},
   "outputs": [],
   "source": [
    "scores_passive_perceptual_Morgan, scores_passive_internal_Morgan = calculate_ratio(passive_memories_list_Morgan)\n",
    "scores_passive_perceptual_Marina, scores_passive_internal_Marina = calculate_ratio(passive_memories_list_Marina)\n",
    "scores_passive_perceptual_Ruben, scores_passive_internal_Ruben = calculate_ratio(passive_memories_list_Ruben)"
   ]
  },
  {
   "cell_type": "code",
   "execution_count": 95,
   "metadata": {},
   "outputs": [
    {
     "name": "stdout",
     "output_type": "stream",
     "text": [
      "Average ratio of internal details in the passive group : 73.89241629951968 %\n",
      "Average ratio of internal details in the passive group : 65.72164793589964 %\n",
      "Average ratio of internal details in the passive group : 93.43252990559492 %\n"
     ]
    }
   ],
   "source": [
    "print('Average ratio of internal details in the passive group :',np.mean(scores_passive_internal_Morgan)*100,'%')\n",
    "print('Average ratio of internal details in the passive group :',np.mean(scores_passive_internal_Marina)*100,'%')\n",
    "print('Average ratio of internal details in the passive group :',np.mean(scores_passive_internal_Ruben)*100,'%')"
   ]
  },
  {
   "cell_type": "code",
   "execution_count": 96,
   "metadata": {},
   "outputs": [
    {
     "name": "stdout",
     "output_type": "stream",
     "text": [
      "Average ratio of perceptual details in the active group : 10.119364269277643 %\n",
      "Average ratio of perceptual details in the active group : 4.65583203050881 %\n",
      "Average ratio of perceptual details in the active group : 20.27100264029057 %\n"
     ]
    }
   ],
   "source": [
    "print('Average ratio of perceptual details in the active group :',np.mean(scores_passive_perceptual_Morgan)*100,'%')\n",
    "print('Average ratio of perceptual details in the active group :',np.mean(scores_passive_perceptual_Marina)*100,'%')\n",
    "print('Average ratio of perceptual details in the active group :',np.mean(scores_passive_perceptual_Ruben)*100,'%')"
   ]
  },
  {
   "cell_type": "code",
   "execution_count": 100,
   "metadata": {},
   "outputs": [],
   "source": [
    "from statsmodels.stats.inter_rater import fleiss_kappa"
   ]
  },
  {
   "cell_type": "code",
   "execution_count": 101,
   "metadata": {},
   "outputs": [
    {
     "data": {
      "text/plain": [
       "array([[ 1.        ,  0.34190123,  0.11132724],\n",
       "       [ 0.34190123,  1.        , -0.29795908],\n",
       "       [ 0.11132724, -0.29795908,  1.        ]])"
      ]
     },
     "execution_count": 101,
     "metadata": {},
     "output_type": "execute_result"
    }
   ],
   "source": [
    "np.corrcoef([scores_active_internal_Marina,scores_active_internal_Morgan,scores_active_internal_Ruben])"
   ]
  },
  {
   "cell_type": "code",
   "execution_count": 26,
   "metadata": {},
   "outputs": [],
   "source": [
    "f_active_Morgan = [item for sublist in active_memories_list_Morgan for item in sublist] \n",
    "f_active_Morgan = [int(item) for sublist in f_active_Morgan for item in sublist] \n",
    "f_active_Marina = [item for sublist in active_memories_list_Marina for item in sublist] \n",
    "f_active_Marina = [int(item) for sublist in f_active_Marina for item in sublist] \n",
    "f_active_Ruben = [item for sublist in active_memories_list_Ruben for item in sublist] \n",
    "f_active_Ruben = [int(item) for sublist in f_active_Ruben for item in sublist] "
   ]
  },
  {
   "cell_type": "code",
   "execution_count": 29,
   "metadata": {},
   "outputs": [
    {
     "data": {
      "text/plain": [
       "array([[1.        , 0.62083778, 0.55206771],\n",
       "       [0.62083778, 1.        , 0.68838254],\n",
       "       [0.55206771, 0.68838254, 1.        ]])"
      ]
     },
     "execution_count": 29,
     "metadata": {},
     "output_type": "execute_result"
    }
   ],
   "source": [
    "np.corrcoef([f_active_Morgan,f_active_Marina,f_active_Ruben])"
   ]
  },
  {
   "cell_type": "code",
   "execution_count": 31,
   "metadata": {},
   "outputs": [],
   "source": [
    "array_active_ratings = np.array([f_active_Morgan,f_active_Marina,f_active_Ruben]).T"
   ]
  },
  {
   "cell_type": "code",
   "execution_count": 33,
   "metadata": {},
   "outputs": [],
   "source": [
    "aggrement_0_1 = []\n",
    "aggrement_0_2 = []\n",
    "aggrement_1_2 = []\n",
    "for i in range(len(array_active_ratings)):\n",
    "    \n",
    "    if array_active_ratings[i,0]==array_active_ratings[i,1]:\n",
    "        aggrement_0_1.append(1)\n",
    "    else:\n",
    "        aggrement_0_1.append(0)\n",
    "        \n",
    "    if array_active_ratings[i,0]==array_active_ratings[i,2]:\n",
    "        aggrement_0_2.append(1)\n",
    "    else:\n",
    "        aggrement_0_2.append(0)\n",
    "        \n",
    "    if array_active_ratings[i,1]==array_active_ratings[i,2]:\n",
    "        aggrement_1_2.append(1)\n",
    "    else:\n",
    "        aggrement_1_2.append(0)\n",
    "        \n",
    "aggrement_total = np.array(aggrement_0_1)+np.array(aggrement_0_2)+np.array(aggrement_1_2)\n",
    "\n",
    "\n",
    "aggrement_total =aggrement_total/3\n",
    "\n",
    "\n",
    "print(np.mean(aggrement_total))"
   ]
  },
  {
   "cell_type": "code",
   "execution_count": 43,
   "metadata": {},
   "outputs": [],
   "source": [
    "import os\n",
    "import numpy as np\n",
    "from numpy import ones, kron, mean, eye, hstack, dot, tile\n",
    "from numpy.linalg import pinv\n",
    "\n",
    "def icc(Y, icc_type='ICC(2,1)'):\n",
    "    ''' Calculate intraclass correlation coefficient\n",
    "\n",
    "    ICC Formulas are based on:\n",
    "    Shrout, P. E., & Fleiss, J. L. (1979). Intraclass correlations: uses in\n",
    "    assessing rater reliability. Psychological bulletin, 86(2), 420.\n",
    "    icc1:  x_ij = mu + beta_j + w_ij\n",
    "    icc2/3:  x_ij = mu + alpha_i + beta_j + (ab)_ij + epsilon_ij\n",
    "    Code modifed from nipype algorithms.icc\n",
    "    https://github.com/nipy/nipype/blob/master/nipype/algorithms/icc.py\n",
    "\n",
    "    Args:\n",
    "        Y: The data Y are entered as a 'table' ie. subjects are in rows and repeated\n",
    "            measures in columns\n",
    "        icc_type: type of ICC to calculate. (ICC(2,1), ICC(2,k), ICC(3,1), ICC(3,k)) \n",
    "    Returns:\n",
    "        ICC: (np.array) intraclass correlation coefficient\n",
    "    '''\n",
    "\n",
    "    [n, k] = Y.shape\n",
    "\n",
    "    # Degrees of Freedom\n",
    "    dfc = k - 1\n",
    "    dfe = (n - 1) * (k-1)\n",
    "    dfr = n - 1\n",
    "\n",
    "    # Sum Square Total\n",
    "    mean_Y = np.mean(Y)\n",
    "    SST = ((Y - mean_Y) ** 2).sum()\n",
    "\n",
    "    # create the design matrix for the different levels\n",
    "    x = np.kron(np.eye(k), np.ones((n, 1)))  # sessions\n",
    "    x0 = np.tile(np.eye(n), (k, 1))  # subjects\n",
    "    X = np.hstack([x, x0])\n",
    "\n",
    "    # Sum Square Error\n",
    "    predicted_Y = np.dot(np.dot(np.dot(X, np.linalg.pinv(np.dot(X.T, X))),\n",
    "                                X.T), Y.flatten('F'))\n",
    "    residuals = Y.flatten('F') - predicted_Y\n",
    "    SSE = (residuals ** 2).sum()\n",
    "\n",
    "    MSE = SSE / dfe\n",
    "\n",
    "    # Sum square column effect - between colums\n",
    "    SSC = ((np.mean(Y, 0) - mean_Y) ** 2).sum() * n\n",
    "    MSC = SSC / dfc  # / n (without n in SPSS results)\n",
    "\n",
    "    # Sum Square subject effect - between rows/subjects\n",
    "    SSR = SST - SSC - SSE\n",
    "    MSR = SSR / dfr\n",
    "\n",
    "    if icc_type == 'icc1':\n",
    "        # ICC(2,1) = (mean square subject - mean square error) /\n",
    "        # (mean square subject + (k-1)*mean square error +\n",
    "        # k*(mean square columns - mean square error)/n)\n",
    "        # ICC = (MSR - MSRW) / (MSR + (k-1) * MSRW)\n",
    "        NotImplementedError(\"This method isn't implemented yet.\")\n",
    "\n",
    "    elif icc_type == 'ICC(2,1)' or icc_type == 'ICC(2,k)':\n",
    "        # ICC(2,1) = (mean square subject - mean square error) /\n",
    "        # (mean square subject + (k-1)*mean square error +\n",
    "        # k*(mean square columns - mean square error)/n)\n",
    "        if icc_type == 'ICC(2,k)':\n",
    "            k = 1\n",
    "        ICC = (MSR - MSE) / (MSR + (k-1) * MSE + k * (MSC - MSE) / n)\n",
    "\n",
    "    elif icc_type == 'ICC(3,1)' or icc_type == 'ICC(3,k)':\n",
    "        # ICC(3,1) = (mean square subject - mean square error) /\n",
    "        # (mean square subject + (k-1)*mean square error)\n",
    "        if icc_type == 'ICC(3,k)':\n",
    "            k = 1\n",
    "        ICC = (MSR - MSE) / (MSR + (k-1) * MSE)\n",
    "\n",
    "    return ICC"
   ]
  },
  {
   "cell_type": "code",
   "execution_count": 74,
   "metadata": {},
   "outputs": [],
   "source": [
    "f_passive_Morgan = [item for sublist in passive_memories_list_Morgan for item in sublist] \n",
    "f_passive_Morgan = [int(item) for sublist in f_passive_Morgan for item in sublist] \n",
    "f_passive_Marina = [item for sublist in passive_memories_list_Marina for item in sublist] \n",
    "f_passive_Marina = [int(item) for sublist in f_passive_Marina for item in sublist] \n",
    "f_passive_Ruben = [item for sublist in passive_memories_list_Ruben for item in sublist] \n",
    "f_passive_Ruben = [int(item) for sublist in f_passive_Ruben for item in sublist] "
   ]
  },
  {
   "cell_type": "code",
   "execution_count": 118,
   "metadata": {},
   "outputs": [
    {
     "data": {
      "text/plain": [
       "array([[1.        , 0.75407528, 0.69447341],\n",
       "       [0.75407528, 1.        , 0.61683541],\n",
       "       [0.69447341, 0.61683541, 1.        ]])"
      ]
     },
     "execution_count": 118,
     "metadata": {},
     "output_type": "execute_result"
    }
   ],
   "source": [
    "np.corrcoef([f_passive_Morgan,f_passive_Marina,f_passive_Ruben])"
   ]
  },
  {
   "cell_type": "code",
   "execution_count": 75,
   "metadata": {},
   "outputs": [],
   "source": [
    "array_passive_ratings = np.array([f_passive_Morgan,f_passive_Marina,f_passive_Ruben]).T"
   ]
  },
  {
   "cell_type": "code",
   "execution_count": 119,
   "metadata": {},
   "outputs": [
    {
     "name": "stdout",
     "output_type": "stream",
     "text": [
      "0.6657777777777778\n"
     ]
    }
   ],
   "source": [
    "aggrement_0_1_ = []\n",
    "aggrement_0_2_ = []\n",
    "aggrement_1_2_ = []\n",
    "for i in range(len(array_passive_ratings)):\n",
    "    \n",
    "    if array_passive_ratings[i,0]==array_passive_ratings[i,1]:\n",
    "        aggrement_0_1_.append(1)\n",
    "    else:\n",
    "        aggrement_0_1_.append(0)\n",
    "        \n",
    "    if array_passive_ratings[i,0]==array_passive_ratings[i,2]:\n",
    "        aggrement_0_2_.append(1)\n",
    "    else:\n",
    "        aggrement_0_2_.append(0)\n",
    "        \n",
    "    if array_passive_ratings[i,1]==array_passive_ratings[i,2]:\n",
    "        aggrement_1_2_.append(1)\n",
    "    else:\n",
    "        aggrement_1_2_.append(0)\n",
    "        \n",
    "aggrement_total_ = np.array(aggrement_0_1_)+np.array(aggrement_0_2_)+np.array(aggrement_1_2_)\n",
    "\n",
    "\n",
    "aggrement_total_ =aggrement_total_/3\n",
    "\n",
    "\n",
    "print(np.mean(aggrement_total_))"
   ]
  },
  {
   "cell_type": "code",
   "execution_count": 174,
   "metadata": {},
   "outputs": [
    {
     "name": "stdout",
     "output_type": "stream",
     "text": [
      "0.8206365508125186\n",
      "0.8944065753343107\n"
     ]
    }
   ],
   "source": [
    "array_active_ratings_perceptual = np.array([f_active_Morgan[::3],f_active_Marina[::3],f_active_Ruben[::3]]).T\n",
    "array_passive_ratings_perceptual = np.array([f_passive_Morgan[::3],f_passive_Marina[::3],f_passive_Ruben[::3]]).T\n",
    "\n",
    "\n",
    "print(icc(array_active_ratings_perceptual,'ICC(3,k)'))\n",
    "print(icc(array_passive_ratings_perceptual,'ICC(3,k)'))"
   ]
  },
  {
   "cell_type": "code",
   "execution_count": 175,
   "metadata": {},
   "outputs": [
    {
     "name": "stdout",
     "output_type": "stream",
     "text": [
      "0.8623222150114684\n",
      "0.8448885357652803\n"
     ]
    }
   ],
   "source": [
    "array_active_ratings_internal = np.array([f_active_Morgan[1::3],f_active_Marina[1::3],f_active_Ruben[1::3]]).T\n",
    "array_passive_ratings_internal = np.array([f_passive_Morgan[1::3],f_passive_Marina[1::3],f_passive_Ruben[1::3]]).T\n",
    "\n",
    "\n",
    "print(icc(array_active_ratings_internal,'ICC(3,k)'))\n",
    "print(icc(array_passive_ratings_internal,'ICC(3,k)'))"
   ]
  },
  {
   "cell_type": "code",
   "execution_count": 176,
   "metadata": {},
   "outputs": [
    {
     "name": "stdout",
     "output_type": "stream",
     "text": [
      "0.7889130281223026\n",
      "0.8662940698619009\n"
     ]
    }
   ],
   "source": [
    "array_active_ratings_external = np.array([f_active_Morgan[2::3],f_active_Marina[2::3],f_active_Ruben[2::3]]).T\n",
    "array_passive_ratings_external = np.array([f_passive_Morgan[2::3],f_passive_Marina[2::3],f_passive_Ruben[2::3]]).T\n",
    "\n",
    "\n",
    "print(icc(array_active_ratings_external,'ICC(3,k)'))\n",
    "print(icc(array_passive_ratings_external,'ICC(3,k)'))"
   ]
  },
  {
   "cell_type": "code",
   "execution_count": 179,
   "metadata": {},
   "outputs": [],
   "source": [
    "scores_passive_internal = np.array([scores_passive_internal_Marina,scores_passive_internal_Morgan,scores_passive_internal_Ruben]).T\n",
    "scores_active_internal = np.array([scores_active_internal_Marina,scores_active_internal_Morgan,scores_active_internal_Ruben]).T"
   ]
  },
  {
   "cell_type": "code",
   "execution_count": 181,
   "metadata": {},
   "outputs": [
    {
     "name": "stdout",
     "output_type": "stream",
     "text": [
      "0.6394285374929378\n",
      "0.311679801961189\n"
     ]
    }
   ],
   "source": [
    "print(icc(scores_passive_internal,'ICC(3,k)'))\n",
    "print(icc(scores_active_internal,'ICC(3,k)'))"
   ]
  },
  {
   "cell_type": "code",
   "execution_count": 182,
   "metadata": {},
   "outputs": [],
   "source": [
    "scores_passive_perceptual = np.array([scores_passive_perceptual_Marina,scores_passive_perceptual_Morgan,scores_passive_perceptual_Ruben]).T\n",
    "scores_active_perceptual = np.array([scores_active_perceptual_Marina,scores_active_perceptual_Morgan,scores_active_perceptual_Ruben]).T"
   ]
  },
  {
   "cell_type": "code",
   "execution_count": 183,
   "metadata": {},
   "outputs": [
    {
     "name": "stdout",
     "output_type": "stream",
     "text": [
      "0.46926387596057734\n",
      "0.23752648516287256\n"
     ]
    }
   ],
   "source": [
    "print(icc(scores_passive_perceptual,'ICC(3,k)'))\n",
    "print(icc(scores_active_perceptual,'ICC(3,k)'))"
   ]
  }
 ],
 "metadata": {
  "kernelspec": {
   "display_name": "Python 3",
   "language": "python",
   "name": "python3"
  },
  "language_info": {
   "codemirror_mode": {
    "name": "ipython",
    "version": 3
   },
   "file_extension": ".py",
   "mimetype": "text/x-python",
   "name": "python",
   "nbconvert_exporter": "python",
   "pygments_lexer": "ipython3",
   "version": "3.9.0"
  }
 },
 "nbformat": 4,
 "nbformat_minor": 2
}
